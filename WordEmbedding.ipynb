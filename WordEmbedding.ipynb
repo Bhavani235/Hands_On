{
  "nbformat": 4,
  "nbformat_minor": 0,
  "metadata": {
    "colab": {
      "provenance": [],
      "gpuType": "T4"
    },
    "kernelspec": {
      "name": "python3",
      "display_name": "Python 3"
    },
    "language_info": {
      "name": "python"
    },
    "accelerator": "GPU"
  },
  "cells": [
    {
      "cell_type": "code",
      "execution_count": 4,
      "metadata": {
        "colab": {
          "base_uri": "https://localhost:8080/"
        },
        "id": "vHdAcnGWGOMi",
        "outputId": "e01eb74a-250f-4608-c3c0-a173ac86ec2b"
      },
      "outputs": [
        {
          "output_type": "stream",
          "name": "stdout",
          "text": [
            "Collecting gensim\n",
            "  Downloading gensim-4.3.3-cp311-cp311-manylinux_2_17_x86_64.manylinux2014_x86_64.whl.metadata (8.1 kB)\n",
            "Requirement already satisfied: numpy<2.0,>=1.18.5 in /usr/local/lib/python3.11/dist-packages (from gensim) (1.26.4)\n",
            "Collecting scipy<1.14.0,>=1.7.0 (from gensim)\n",
            "  Downloading scipy-1.13.1-cp311-cp311-manylinux_2_17_x86_64.manylinux2014_x86_64.whl.metadata (60 kB)\n",
            "\u001b[2K     \u001b[90m━━━━━━━━━━━━━━━━━━━━━━━━━━━━━━━━━━━━━━━━\u001b[0m \u001b[32m60.6/60.6 kB\u001b[0m \u001b[31m4.1 MB/s\u001b[0m eta \u001b[36m0:00:00\u001b[0m\n",
            "\u001b[?25hRequirement already satisfied: smart-open>=1.8.1 in /usr/local/lib/python3.11/dist-packages (from gensim) (7.1.0)\n",
            "Requirement already satisfied: wrapt in /usr/local/lib/python3.11/dist-packages (from smart-open>=1.8.1->gensim) (1.17.2)\n",
            "Downloading gensim-4.3.3-cp311-cp311-manylinux_2_17_x86_64.manylinux2014_x86_64.whl (26.7 MB)\n",
            "\u001b[2K   \u001b[90m━━━━━━━━━━━━━━━━━━━━━━━━━━━━━━━━━━━━━━━━\u001b[0m \u001b[32m26.7/26.7 MB\u001b[0m \u001b[31m77.7 MB/s\u001b[0m eta \u001b[36m0:00:00\u001b[0m\n",
            "\u001b[?25hDownloading scipy-1.13.1-cp311-cp311-manylinux_2_17_x86_64.manylinux2014_x86_64.whl (38.6 MB)\n",
            "\u001b[2K   \u001b[90m━━━━━━━━━━━━━━━━━━━━━━━━━━━━━━━━━━━━━━━━\u001b[0m \u001b[32m38.6/38.6 MB\u001b[0m \u001b[31m18.0 MB/s\u001b[0m eta \u001b[36m0:00:00\u001b[0m\n",
            "\u001b[?25hInstalling collected packages: scipy, gensim\n",
            "  Attempting uninstall: scipy\n",
            "    Found existing installation: scipy 1.14.1\n",
            "    Uninstalling scipy-1.14.1:\n",
            "      Successfully uninstalled scipy-1.14.1\n",
            "Successfully installed gensim-4.3.3 scipy-1.13.1\n"
          ]
        }
      ],
      "source": [
        "!pip install gensim"
      ]
    },
    {
      "cell_type": "code",
      "execution_count": 5,
      "metadata": {
        "id": "4ityi4aH8Eqw"
      },
      "outputs": [],
      "source": [
        "import pandas as pd\n",
        "import numpy as np\n",
        "import gensim\n",
        "import nltk\n",
        "import re\n",
        "from nltk.corpus import stopwords\n",
        "from nltk.tokenize import word_tokenize,sent_tokenize\n",
        "from gensim.models import Word2Vec\n",
        "import os"
      ]
    },
    {
      "cell_type": "code",
      "source": [
        "?Word2Vec"
      ],
      "metadata": {
        "id": "pfMgHyrZuk8z"
      },
      "execution_count": 6,
      "outputs": []
    },
    {
      "cell_type": "code",
      "source": [
        "from sklearn.datasets import fetch_20newsgroups\n",
        "\n",
        "categories = [\n",
        "    'talk.religion.misc',\n",
        "    'comp.graphics',\n",
        "    'sci.space',\n",
        "]\n",
        "\n",
        "print(\"Loading 20 newsgroups dataset for categories:\")\n",
        "print(categories)"
      ],
      "metadata": {
        "colab": {
          "base_uri": "https://localhost:8080/"
        },
        "id": "hCSGFO-eQGnq",
        "outputId": "9516c887-bbb1-400e-c94b-da9dc0c41304"
      },
      "execution_count": 7,
      "outputs": [
        {
          "output_type": "stream",
          "name": "stdout",
          "text": [
            "Loading 20 newsgroups dataset for categories:\n",
            "['talk.religion.misc', 'comp.graphics', 'sci.space']\n"
          ]
        }
      ]
    },
    {
      "cell_type": "code",
      "source": [
        "df = fetch_20newsgroups(subset='all', categories=categories,\n",
        "                             shuffle=False, remove=('headers', 'footers', 'quotes'))\n",
        "labels = df.target\n",
        "true_k = len(np.unique(labels)) ## This should be 3 in this example\n",
        "print(true_k)"
      ],
      "metadata": {
        "colab": {
          "base_uri": "https://localhost:8080/"
        },
        "id": "Ar0RiWqCQQbP",
        "outputId": "5a83f08e-0b21-44d5-db0a-1ee566bfd092"
      },
      "execution_count": 8,
      "outputs": [
        {
          "output_type": "stream",
          "name": "stdout",
          "text": [
            "3\n"
          ]
        }
      ]
    },
    {
      "cell_type": "code",
      "source": [
        "labels.size"
      ],
      "metadata": {
        "colab": {
          "base_uri": "https://localhost:8080/"
        },
        "id": "YhTAVQur-Hs8",
        "outputId": "aea13b81-b552-4ef4-de1d-a3e92e9259ba"
      },
      "execution_count": 9,
      "outputs": [
        {
          "output_type": "execute_result",
          "data": {
            "text/plain": [
              "2588"
            ]
          },
          "metadata": {},
          "execution_count": 9
        }
      ]
    },
    {
      "cell_type": "code",
      "source": [
        "df.target[1]"
      ],
      "metadata": {
        "colab": {
          "base_uri": "https://localhost:8080/"
        },
        "id": "r_RckI7JQg92",
        "outputId": "7028d780-6bac-4548-e702-5d508061e711"
      },
      "execution_count": 10,
      "outputs": [
        {
          "output_type": "execute_result",
          "data": {
            "text/plain": [
              "0"
            ]
          },
          "metadata": {},
          "execution_count": 10
        }
      ]
    },
    {
      "cell_type": "code",
      "source": [
        "len(df.data)"
      ],
      "metadata": {
        "colab": {
          "base_uri": "https://localhost:8080/"
        },
        "id": "6ru603XFQoS4",
        "outputId": "a1dff734-fe12-4d46-bda9-0952407de247"
      },
      "execution_count": 11,
      "outputs": [
        {
          "output_type": "execute_result",
          "data": {
            "text/plain": [
              "2588"
            ]
          },
          "metadata": {},
          "execution_count": 11
        }
      ]
    },
    {
      "cell_type": "code",
      "source": [
        "data=[]\n",
        "for text in df.data:\n",
        "  data.append(text)"
      ],
      "metadata": {
        "id": "l_UuGCPGQ0Lr"
      },
      "execution_count": 12,
      "outputs": []
    },
    {
      "cell_type": "code",
      "source": [
        "data[0]"
      ],
      "metadata": {
        "colab": {
          "base_uri": "https://localhost:8080/",
          "height": 122
        },
        "id": "61SNMVuKQ_hd",
        "outputId": "dc492991-3318-4b6d-9701-cf77c0a68d59"
      },
      "execution_count": 13,
      "outputs": [
        {
          "output_type": "execute_result",
          "data": {
            "text/plain": [
              "'\\n\\nI think I can. Largely as a result of efforts by people reading this group\\nwriting letters and making phone calls the following has happened:\\n\\n1. NASA reprogrammed funds to keep NASP alive in 1991.\\n2. Efforts to kill DC-X and the SSRT progam where twice twarted\\n   (Feb. and June of last year).\\n3. Gouldin kept his job in spite of heavy lobbying against him.\\n\\nThis may not be what Mark was thinking of but it shows that the\\nreaders of sci.space DO have power and influence.\\n\\n  Allen\\n'"
            ],
            "application/vnd.google.colaboratory.intrinsic+json": {
              "type": "string"
            }
          },
          "metadata": {},
          "execution_count": 13
        }
      ]
    },
    {
      "cell_type": "code",
      "source": [
        "new=[]\n",
        "for i in data:\n",
        "  i=re.sub('[\\s+\\d+:\\.\\)\\( ]',' ',i) #'\\.' spaces, numbers, colon, paranthesis, full stop rmoval\n",
        "  i=re.sub(r'\\S*@\\S*\\s?','',i)  # Email removal\n",
        "  new.append(i)\n",
        "\n",
        "new[0:3]\n"
      ],
      "metadata": {
        "colab": {
          "base_uri": "https://localhost:8080/"
        },
        "id": "vzv66CZrRCYU",
        "outputId": "db39ae47-3718-4120-bfbe-ddd764821573"
      },
      "execution_count": 14,
      "outputs": [
        {
          "output_type": "execute_result",
          "data": {
            "text/plain": [
              "['  I think I can  Largely as a result of efforts by people reading this group writing letters and making phone calls the following has happened      NASA reprogrammed funds to keep NASP alive in          Efforts to kill DC-X and the SSRT progam where twice twarted     Feb  and June of last year      Gouldin kept his job in spite of heavy lobbying against him   This may not be what Mark was thinking of but it shows that the readers of sci space DO have power and influence     Allen ',\n",
              " 'In regards to fractal commpression, I have seen   fractal compressed \"movies\"  They were both fairly impressive   The first one was a    gray scale \"movie\" of Casablanca, it was    MB and had    minutes of    fps video   It was a little grainy but not bad at all   The second one I saw was only   minutes but it had   bit color with   fps and measured in at    MB   I consider the fractal movies a practical thing to explore   But unlike many  other formats out there, you do end up losing resolution   I don\\'t know what kind of software/hardware was used for creating the \"movies\" I saw but the guy that showed them to me said it took  -   minutes per frame to generate   But as I said above playback was    or more frames per second   And how else could you put    minutes on one floppy disk?',\n",
              " 'Background  The Orion spacedrive was a theoretical concept   It would be a drive using thermonuclear explosions to drive a spacecraft  The idea was that you\\'d detonate devices with somewhere from one to ten megatons yield behind a \"pusher plate\" attached to the main spacecraft   The shock wave from the explosions would transfer momentum to the ship     Now, in an atmosphere I can see this   The energy of the explosion heats the atmosphere, which expands explosively and slams a shock wave into the pusher plate   But in a vacuum, only two things I can see are going to hit the plate  fission/fusion products  barium, krypton, helium, neutrons, evaporated bomb casing  and electromagnetic radiation  gammas mostly, some light/heat from irradiated fission products      Would this work?  I can\\'t see the EM radiation impelling very much momentum  especially given the mass of the pusher plate , and it seems to me you\\'re going to get more momentum transfer throwing the bombs out the back of the ship than you get from detonating them once they\\'re there     I must be missing something   Would someone enlighten me via email?    Thanks   --   --Jim ']"
            ]
          },
          "metadata": {},
          "execution_count": 14
        }
      ]
    },
    {
      "cell_type": "code",
      "source": [
        "nltk.download('punkt')"
      ],
      "metadata": {
        "colab": {
          "base_uri": "https://localhost:8080/"
        },
        "id": "aINrss1idyDD",
        "outputId": "bd5416a6-efa3-4ff8-b885-bcb78e58548c"
      },
      "execution_count": 15,
      "outputs": [
        {
          "output_type": "stream",
          "name": "stderr",
          "text": [
            "[nltk_data] Downloading package punkt to /root/nltk_data...\n",
            "[nltk_data]   Unzipping tokenizers/punkt.zip.\n"
          ]
        },
        {
          "output_type": "execute_result",
          "data": {
            "text/plain": [
              "True"
            ]
          },
          "metadata": {},
          "execution_count": 15
        }
      ]
    },
    {
      "cell_type": "code",
      "source": [
        "import nltk\n",
        "nltk.download('punkt_tab')\n",
        "tokens=[]\n",
        "for text in new:\n",
        "  text= re.sub(r'\\s+',' ',text.lower())\n",
        "  tokens.append(word_tokenize(text))\n",
        "\n",
        "\n"
      ],
      "metadata": {
        "id": "N0M-TFvNbPB0",
        "colab": {
          "base_uri": "https://localhost:8080/"
        },
        "outputId": "f1e823bc-4d9c-4426-8f32-a48cded0371b"
      },
      "execution_count": 17,
      "outputs": [
        {
          "output_type": "stream",
          "name": "stderr",
          "text": [
            "[nltk_data] Downloading package punkt_tab to /root/nltk_data...\n",
            "[nltk_data]   Unzipping tokenizers/punkt_tab.zip.\n"
          ]
        }
      ]
    },
    {
      "cell_type": "code",
      "source": [
        "tokens[0:2]"
      ],
      "metadata": {
        "colab": {
          "base_uri": "https://localhost:8080/"
        },
        "id": "ZvkMLi49qTkd",
        "outputId": "6fef439b-2583-4388-fe90-a4761bf744f7"
      },
      "execution_count": 18,
      "outputs": [
        {
          "output_type": "execute_result",
          "data": {
            "text/plain": [
              "[['i',\n",
              "  'think',\n",
              "  'i',\n",
              "  'can',\n",
              "  'largely',\n",
              "  'as',\n",
              "  'a',\n",
              "  'result',\n",
              "  'of',\n",
              "  'efforts',\n",
              "  'by',\n",
              "  'people',\n",
              "  'reading',\n",
              "  'this',\n",
              "  'group',\n",
              "  'writing',\n",
              "  'letters',\n",
              "  'and',\n",
              "  'making',\n",
              "  'phone',\n",
              "  'calls',\n",
              "  'the',\n",
              "  'following',\n",
              "  'has',\n",
              "  'happened',\n",
              "  'nasa',\n",
              "  'reprogrammed',\n",
              "  'funds',\n",
              "  'to',\n",
              "  'keep',\n",
              "  'nasp',\n",
              "  'alive',\n",
              "  'in',\n",
              "  'efforts',\n",
              "  'to',\n",
              "  'kill',\n",
              "  'dc-x',\n",
              "  'and',\n",
              "  'the',\n",
              "  'ssrt',\n",
              "  'progam',\n",
              "  'where',\n",
              "  'twice',\n",
              "  'twarted',\n",
              "  'feb',\n",
              "  'and',\n",
              "  'june',\n",
              "  'of',\n",
              "  'last',\n",
              "  'year',\n",
              "  'gouldin',\n",
              "  'kept',\n",
              "  'his',\n",
              "  'job',\n",
              "  'in',\n",
              "  'spite',\n",
              "  'of',\n",
              "  'heavy',\n",
              "  'lobbying',\n",
              "  'against',\n",
              "  'him',\n",
              "  'this',\n",
              "  'may',\n",
              "  'not',\n",
              "  'be',\n",
              "  'what',\n",
              "  'mark',\n",
              "  'was',\n",
              "  'thinking',\n",
              "  'of',\n",
              "  'but',\n",
              "  'it',\n",
              "  'shows',\n",
              "  'that',\n",
              "  'the',\n",
              "  'readers',\n",
              "  'of',\n",
              "  'sci',\n",
              "  'space',\n",
              "  'do',\n",
              "  'have',\n",
              "  'power',\n",
              "  'and',\n",
              "  'influence',\n",
              "  'allen'],\n",
              " ['in',\n",
              "  'regards',\n",
              "  'to',\n",
              "  'fractal',\n",
              "  'commpression',\n",
              "  ',',\n",
              "  'i',\n",
              "  'have',\n",
              "  'seen',\n",
              "  'fractal',\n",
              "  'compressed',\n",
              "  '``',\n",
              "  'movies',\n",
              "  \"''\",\n",
              "  'they',\n",
              "  'were',\n",
              "  'both',\n",
              "  'fairly',\n",
              "  'impressive',\n",
              "  'the',\n",
              "  'first',\n",
              "  'one',\n",
              "  'was',\n",
              "  'a',\n",
              "  'gray',\n",
              "  'scale',\n",
              "  '``',\n",
              "  'movie',\n",
              "  \"''\",\n",
              "  'of',\n",
              "  'casablanca',\n",
              "  ',',\n",
              "  'it',\n",
              "  'was',\n",
              "  'mb',\n",
              "  'and',\n",
              "  'had',\n",
              "  'minutes',\n",
              "  'of',\n",
              "  'fps',\n",
              "  'video',\n",
              "  'it',\n",
              "  'was',\n",
              "  'a',\n",
              "  'little',\n",
              "  'grainy',\n",
              "  'but',\n",
              "  'not',\n",
              "  'bad',\n",
              "  'at',\n",
              "  'all',\n",
              "  'the',\n",
              "  'second',\n",
              "  'one',\n",
              "  'i',\n",
              "  'saw',\n",
              "  'was',\n",
              "  'only',\n",
              "  'minutes',\n",
              "  'but',\n",
              "  'it',\n",
              "  'had',\n",
              "  'bit',\n",
              "  'color',\n",
              "  'with',\n",
              "  'fps',\n",
              "  'and',\n",
              "  'measured',\n",
              "  'in',\n",
              "  'at',\n",
              "  'mb',\n",
              "  'i',\n",
              "  'consider',\n",
              "  'the',\n",
              "  'fractal',\n",
              "  'movies',\n",
              "  'a',\n",
              "  'practical',\n",
              "  'thing',\n",
              "  'to',\n",
              "  'explore',\n",
              "  'but',\n",
              "  'unlike',\n",
              "  'many',\n",
              "  'other',\n",
              "  'formats',\n",
              "  'out',\n",
              "  'there',\n",
              "  ',',\n",
              "  'you',\n",
              "  'do',\n",
              "  'end',\n",
              "  'up',\n",
              "  'losing',\n",
              "  'resolution',\n",
              "  'i',\n",
              "  'do',\n",
              "  \"n't\",\n",
              "  'know',\n",
              "  'what',\n",
              "  'kind',\n",
              "  'of',\n",
              "  'software/hardware',\n",
              "  'was',\n",
              "  'used',\n",
              "  'for',\n",
              "  'creating',\n",
              "  'the',\n",
              "  '``',\n",
              "  'movies',\n",
              "  \"''\",\n",
              "  'i',\n",
              "  'saw',\n",
              "  'but',\n",
              "  'the',\n",
              "  'guy',\n",
              "  'that',\n",
              "  'showed',\n",
              "  'them',\n",
              "  'to',\n",
              "  'me',\n",
              "  'said',\n",
              "  'it',\n",
              "  'took',\n",
              "  '-',\n",
              "  'minutes',\n",
              "  'per',\n",
              "  'frame',\n",
              "  'to',\n",
              "  'generate',\n",
              "  'but',\n",
              "  'as',\n",
              "  'i',\n",
              "  'said',\n",
              "  'above',\n",
              "  'playback',\n",
              "  'was',\n",
              "  'or',\n",
              "  'more',\n",
              "  'frames',\n",
              "  'per',\n",
              "  'second',\n",
              "  'and',\n",
              "  'how',\n",
              "  'else',\n",
              "  'could',\n",
              "  'you',\n",
              "  'put',\n",
              "  'minutes',\n",
              "  'on',\n",
              "  'one',\n",
              "  'floppy',\n",
              "  'disk',\n",
              "  '?']]"
            ]
          },
          "metadata": {},
          "execution_count": 18
        }
      ]
    },
    {
      "cell_type": "markdown",
      "source": [
        "Parameter Explanation:\n",
        "\n",
        "tokens: The input tokenized sentences (list of lists of words).\n",
        "\n",
        "size=50: Each word will be represented as a 50-dimensional vector.\n",
        "\n",
        "window=5: The context window size (words within 5 positions before/after the target word are considered).\n",
        "\n",
        "sg=1: Use Skip-Gram (instead of CBOW, which is sg=0).\n",
        "\n",
        "hs=0: Use negative sampling instead of hierarchical softmax.\n",
        "\n",
        "iter=10: Train the model for 10 iterations over the corpus."
      ],
      "metadata": {
        "id": "w5FKFwuNVnLk"
      }
    },
    {
      "cell_type": "code",
      "source": [
        "Gensim_model = Word2Vec(tokens, vector_size=50, window=5, sg=1, hs=0, epochs=10) # Change 'iter' to 'epochs'"
      ],
      "metadata": {
        "id": "1FFSMBv_qW8m"
      },
      "execution_count": 24,
      "outputs": []
    },
    {
      "cell_type": "code",
      "source": [
        "w1='software'\n",
        "Gensim_model.wv.most_similar(positive=w1,topn=4)"
      ],
      "metadata": {
        "colab": {
          "base_uri": "https://localhost:8080/"
        },
        "id": "HrNkAG8ytsAX",
        "outputId": "68181fdd-b92a-454c-a3b8-2f748e994f1d"
      },
      "execution_count": 25,
      "outputs": [
        {
          "output_type": "execute_result",
          "data": {
            "text/plain": [
              "[('annotation', 0.6944361925125122),\n",
              " ('imdisp', 0.6816105246543884),\n",
              " ('ibm-pc', 0.674480140209198),\n",
              " ('lisp', 0.6691686511039734)]"
            ]
          },
          "metadata": {},
          "execution_count": 25
        }
      ]
    },
    {
      "cell_type": "code",
      "source": [
        "w1='science'\n",
        "Gensim_model.wv.most_similar(positive=w1,topn=4)"
      ],
      "metadata": {
        "colab": {
          "base_uri": "https://localhost:8080/"
        },
        "id": "B0aj8Sj5uJpD",
        "outputId": "d20ef876-af94-4396-9e19-8aba4eb27034"
      },
      "execution_count": 26,
      "outputs": [
        {
          "output_type": "execute_result",
          "data": {
            "text/plain": [
              "[('institute', 0.6826318502426147),\n",
              " ('advancement', 0.6823651194572449),\n",
              " ('engineering', 0.6787089705467224),\n",
              " ('contractor', 0.6780127882957458)]"
            ]
          },
          "metadata": {},
          "execution_count": 26
        }
      ]
    },
    {
      "cell_type": "code",
      "source": [
        "w1='technology'\n",
        "Gensim_model.wv.most_similar(positive=w1,topn=4)"
      ],
      "metadata": {
        "colab": {
          "base_uri": "https://localhost:8080/"
        },
        "id": "o0-iSFfwuRpM",
        "outputId": "71c37511-8eca-4e06-eea0-69aced321748"
      },
      "execution_count": 27,
      "outputs": [
        {
          "output_type": "execute_result",
          "data": {
            "text/plain": [
              "[('aerospace', 0.8007619380950928),\n",
              " ('nasp', 0.7886935472488403),\n",
              " ('corporate', 0.7878618240356445),\n",
              " ('transportation', 0.7627441883087158)]"
            ]
          },
          "metadata": {},
          "execution_count": 27
        }
      ]
    },
    {
      "cell_type": "code",
      "source": [
        "Gensim_model.wv.get_vector('science')"
      ],
      "metadata": {
        "colab": {
          "base_uri": "https://localhost:8080/"
        },
        "id": "DselQrGTuea1",
        "outputId": "ce4ca59b-fd6c-463c-c0df-d6e93bb2bef5"
      },
      "execution_count": 28,
      "outputs": [
        {
          "output_type": "execute_result",
          "data": {
            "text/plain": [
              "array([-0.3623485 , -0.21078531,  0.04509166,  0.32432383, -0.54069364,\n",
              "        0.20165564,  0.66867244,  0.13957112, -0.10400904, -0.72297966,\n",
              "       -0.6369241 ,  0.2524662 , -0.4228201 ,  0.3928945 , -0.48180428,\n",
              "        0.60694724,  1.4440354 ,  0.67590475, -0.45621347, -0.21740933,\n",
              "       -0.3365733 ,  0.9386608 ,  0.4980501 ,  0.04891886, -0.24360369,\n",
              "        0.4501776 , -0.16387984, -0.77096677, -0.36305085, -0.00665322,\n",
              "       -0.02201996,  0.2506557 , -0.30259973,  0.05835335,  0.22817285,\n",
              "       -0.00622288, -0.10492244, -0.15271248, -0.41141218, -0.24388583,\n",
              "        0.42488703, -0.32875165,  0.04501028,  0.07575851, -0.01707093,\n",
              "        0.21368676, -0.4174881 ,  0.0788186 ,  0.775557  ,  0.3696675 ],\n",
              "      dtype=float32)"
            ]
          },
          "metadata": {},
          "execution_count": 28
        }
      ]
    },
    {
      "cell_type": "code",
      "source": [
        "from gensim.models import FastText\n",
        "\n",
        "# Train the FastText model\n",
        "# Change 'size' to 'vector_size'\n",
        "model_fast = FastText(tokens, vector_size=100, window=5, min_count=5, workers=4, sg=1)\n",
        "\n",
        "# Find similar words for \"Gastroenteritis\"\n",
        "model_fast.wv.most_similar(\"Gastroenteritis\")"
      ],
      "metadata": {
        "colab": {
          "base_uri": "https://localhost:8080/"
        },
        "id": "7dbq1eEIgBWN",
        "outputId": "67c8c06e-4f6a-44b5-a2ec-487e91d6aab7"
      },
      "execution_count": 31,
      "outputs": [
        {
          "output_type": "execute_result",
          "data": {
            "text/plain": [
              "[('amateur', 0.9496268630027771),\n",
              " ('industrial', 0.9425560235977173),\n",
              " ('chemistry', 0.9423111081123352),\n",
              " ('auxiliary', 0.9317180514335632),\n",
              " ('astronautical', 0.9306928515434265),\n",
              " ('astral', 0.9303689002990723),\n",
              " ('renaissance', 0.9296479821205139),\n",
              " ('category', 0.9289262294769287),\n",
              " ('pacastro', 0.9281284213066101),\n",
              " ('astronautics', 0.9277037978172302)]"
            ]
          },
          "metadata": {},
          "execution_count": 31
        }
      ]
    },
    {
      "cell_type": "code",
      "source": [
        "from gensim.models import FastText\n",
        "# Change 'size' to 'vector_size'\n",
        "model_fast = FastText(tokens, vector_size=100, window=5, min_count=5, workers=4,sg=1) # religion, space and graphics"
      ],
      "metadata": {
        "id": "0GayZBYfum3C"
      },
      "execution_count": 33,
      "outputs": []
    },
    {
      "cell_type": "code",
      "source": [],
      "metadata": {
        "id": "2wcnQbvTvIgQ"
      },
      "execution_count": null,
      "outputs": []
    },
    {
      "cell_type": "code",
      "source": [],
      "metadata": {
        "id": "gdYRyQRtlXUK"
      },
      "execution_count": null,
      "outputs": []
    },
    {
      "cell_type": "code",
      "source": [
        "from gensim.models import FastText\n",
        "?FastText()"
      ],
      "metadata": {
        "colab": {
          "base_uri": "https://localhost:8080/"
        },
        "id": "HknwIzLH7Eo5",
        "outputId": "7d2c420b-15c1-49cd-fdd5-b6d64771f4dd"
      },
      "execution_count": 34,
      "outputs": [
        {
          "output_type": "stream",
          "name": "stdout",
          "text": [
            "Object `FastText()` not found.\n"
          ]
        }
      ]
    },
    {
      "cell_type": "code",
      "source": [],
      "metadata": {
        "id": "TOQVPQPKEcUw"
      },
      "execution_count": null,
      "outputs": []
    }
  ]
}